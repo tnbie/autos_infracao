{
  "nbformat": 4,
  "nbformat_minor": 0,
  "metadata": {
    "colab": {
      "name": "autos_infracao.ipynb",
      "provenance": [],
      "collapsed_sections": [],
      "toc_visible": true
    },
    "kernelspec": {
      "name": "python3",
      "display_name": "Python 3"
    },
    "language_info": {
      "name": "python"
    }
  },
  "cells": [
    {
      "cell_type": "markdown",
      "metadata": {
        "id": "My223M2gWKj6"
      },
      "source": [
        "# importing dataset"
      ]
    },
    {
      "cell_type": "code",
      "metadata": {
        "id": "Sz-f2nV_WEjH"
      },
      "source": [
        "## importing libs\n",
        "import matplotlib.pyplot as plt\n",
        "import pandas as pd\n",
        "import numpy as np"
      ],
      "execution_count": 24,
      "outputs": []
    },
    {
      "cell_type": "markdown",
      "metadata": {
        "id": "HeMCrcOnWgg-"
      },
      "source": [
        "# import data"
      ]
    },
    {
      "cell_type": "code",
      "metadata": {
        "colab": {
          "base_uri": "https://localhost:8080/"
        },
        "id": "PZSvNLw0WpKl",
        "outputId": "f950bf6a-eb47-4099-f11e-806e9f4f6301"
      },
      "source": [
        "# importing dataset\n",
        "df = pd.read_csv(\"julho.csv\", sep=\";\")"
      ],
      "execution_count": 25,
      "outputs": [
        {
          "output_type": "stream",
          "text": [
            "/usr/local/lib/python3.7/dist-packages/IPython/core/interactiveshell.py:2718: DtypeWarning: Columns (7) have mixed types.Specify dtype option on import or set low_memory=False.\n",
            "  interactivity=interactivity, compiler=compiler, result=result)\n"
          ],
          "name": "stderr"
        }
      ]
    },
    {
      "cell_type": "markdown",
      "metadata": {
        "id": "M7l67FcMXxTH"
      },
      "source": [
        "# sugestions\n",
        "- [ ] o total de infrações por tipo, com o eixo x representando o tipo e o eixo y o total\n",
        "- [ ] o total de infrações por tipo de infrator, como condutor e proprietário"
      ]
    },
    {
      "cell_type": "code",
      "metadata": {
        "colab": {
          "base_uri": "https://localhost:8080/",
          "height": 263
        },
        "id": "GGzxfuddXw9J",
        "outputId": "91a1347b-0670-4b92-a427-d4543562c066"
      },
      "source": [
        "df.head()\n",
        "df.describe()"
      ],
      "execution_count": 26,
      "outputs": [
        {
          "output_type": "execute_result",
          "data": {
            "text/html": [
              "<div>\n",
              "<style scoped>\n",
              "    .dataframe tbody tr th:only-of-type {\n",
              "        vertical-align: middle;\n",
              "    }\n",
              "\n",
              "    .dataframe tbody tr th {\n",
              "        vertical-align: top;\n",
              "    }\n",
              "\n",
              "    .dataframe thead th {\n",
              "        text-align: right;\n",
              "    }\n",
              "</style>\n",
              "<table border=\"1\" class=\"dataframe\">\n",
              "  <thead>\n",
              "    <tr style=\"text-align: right;\">\n",
              "      <th></th>\n",
              "      <th>tipo_infracao</th>\n",
              "      <th>descricao</th>\n",
              "      <th>tipo_infrator</th>\n",
              "      <th>tipo_veiculo</th>\n",
              "      <th>cometimento</th>\n",
              "      <th>hora_cometimento</th>\n",
              "      <th>auinf_local_rodovia</th>\n",
              "      <th>auinf_local_km</th>\n",
              "      <th>auinf_local_referencia</th>\n",
              "      <th>auinf_local_complemento</th>\n",
              "      <th>auinf_local_latitude</th>\n",
              "      <th>auinf_local_longitude</th>\n",
              "      <th>grav_tipo</th>\n",
              "    </tr>\n",
              "  </thead>\n",
              "  <tbody>\n",
              "    <tr>\n",
              "      <th>count</th>\n",
              "      <td>77348</td>\n",
              "      <td>77348</td>\n",
              "      <td>77348</td>\n",
              "      <td>77331</td>\n",
              "      <td>77348</td>\n",
              "      <td>77348</td>\n",
              "      <td>77342</td>\n",
              "      <td>13373</td>\n",
              "      <td>13148</td>\n",
              "      <td>3079</td>\n",
              "      <td>12221</td>\n",
              "      <td>12221</td>\n",
              "      <td>77348</td>\n",
              "    </tr>\n",
              "    <tr>\n",
              "      <th>unique</th>\n",
              "      <td>137</td>\n",
              "      <td>137</td>\n",
              "      <td>2</td>\n",
              "      <td>39</td>\n",
              "      <td>31</td>\n",
              "      <td>1440</td>\n",
              "      <td>348</td>\n",
              "      <td>130</td>\n",
              "      <td>34</td>\n",
              "      <td>225</td>\n",
              "      <td>10515</td>\n",
              "      <td>10537</td>\n",
              "      <td>4</td>\n",
              "    </tr>\n",
              "    <tr>\n",
              "      <th>top</th>\n",
              "      <td>7455-0</td>\n",
              "      <td>Transitar em velocidade superior à máxima perm...</td>\n",
              "      <td>Condutor</td>\n",
              "      <td>AUTOMOVEL</td>\n",
              "      <td>03/07/2020</td>\n",
              "      <td>12:40</td>\n",
              "      <td>DF-075 (EPNB) KM 7,6 SENTIDO R. FUNDO/SAMAMBAI...</td>\n",
              "      <td>69</td>\n",
              "      <td>Sentido Crescente</td>\n",
              "      <td>km 69</td>\n",
              "      <td>0.0</td>\n",
              "      <td>0.0</td>\n",
              "      <td>Média</td>\n",
              "    </tr>\n",
              "    <tr>\n",
              "      <th>freq</th>\n",
              "      <td>44594</td>\n",
              "      <td>44594</td>\n",
              "      <td>74486</td>\n",
              "      <td>40926</td>\n",
              "      <td>2943</td>\n",
              "      <td>132</td>\n",
              "      <td>6274</td>\n",
              "      <td>1928</td>\n",
              "      <td>6580</td>\n",
              "      <td>515</td>\n",
              "      <td>932</td>\n",
              "      <td>932</td>\n",
              "      <td>48184</td>\n",
              "    </tr>\n",
              "  </tbody>\n",
              "</table>\n",
              "</div>"
            ],
            "text/plain": [
              "       tipo_infracao  ... grav_tipo\n",
              "count          77348  ...     77348\n",
              "unique           137  ...         4\n",
              "top           7455-0  ...     Média\n",
              "freq           44594  ...     48184\n",
              "\n",
              "[4 rows x 13 columns]"
            ]
          },
          "metadata": {
            "tags": []
          },
          "execution_count": 26
        }
      ]
    },
    {
      "cell_type": "markdown",
      "metadata": {
        "id": "nHAcXu2_Zsm3"
      },
      "source": [
        "# o total de infrações por tipo, com o eixo x representando o tipo e o eixo y o total"
      ]
    },
    {
      "cell_type": "code",
      "metadata": {
        "colab": {
          "base_uri": "https://localhost:8080/",
          "height": 429
        },
        "id": "rsthYxgDZsQp",
        "outputId": "e3101496-063b-4154-d40a-5104e47811fe"
      },
      "source": [
        "## create chart to solve the problem\n",
        "df.groupby(\"grav_tipo\")[\"grav_tipo\"].value_counts(ascending=False).plot.bar(title = \"total de infrações por tipo\", color=\"red\")\n",
        "plt.xlabel(\"Tipo Infracao\")\n",
        "plt.ylabel(\"Total Infracoes\")\n",
        "plt.legend()"
      ],
      "execution_count": 27,
      "outputs": [
        {
          "output_type": "execute_result",
          "data": {
            "text/plain": [
              "<matplotlib.legend.Legend at 0x7f849633e110>"
            ]
          },
          "metadata": {
            "tags": []
          },
          "execution_count": 27
        },
        {
          "output_type": "display_data",
          "data": {
            "image/png": "[encoded data removed]",
            "text/plain": [
              "<Figure size 432x288 with 1 Axes>"
            ]
          },
          "metadata": {
            "tags": [],
            "needs_background": "light"
          }
        }
      ]
    },
    {
      "cell_type": "markdown",
      "metadata": {
        "id": "B8xSyPnmacSM"
      },
      "source": [
        "# o total de infrações por tipo de infrator, como condutor e proprietário"
      ]
    },
    {
      "cell_type": "code",
      "metadata": {
        "colab": {
          "base_uri": "https://localhost:8080/",
          "height": 313
        },
        "id": "qQiLB4k0acoM",
        "outputId": "db99e406-04f2-4b40-a6d6-fb94d7fe8648"
      },
      "source": [
        "## create chart to solve the problem\n",
        "df.groupby(\"tipo_infrator\")[\"tipo_infrator\"].value_counts(ascending=False).plot.barh(title = \"total de infrações por tipo de infrator\", color=\"navy\")\n",
        "plt.xlabel(\"Quantidade\")\n",
        "plt.ylabel(\"Tipo de Infrator\")\n",
        "plt.legend()"
      ],
      "execution_count": 28,
      "outputs": [
        {
          "output_type": "execute_result",
          "data": {
            "text/plain": [
              "<matplotlib.legend.Legend at 0x7f8495b81590>"
            ]
          },
          "metadata": {
            "tags": []
          },
          "execution_count": 28
        },
        {
          "output_type": "display_data",
          "data": {
            "image/png": "[encoded data removed]",
            "text/plain": [
              "<Figure size 432x288 with 1 Axes>"
            ]
          },
          "metadata": {
            "tags": [],
            "needs_background": "light"
          }
        }
      ]
    }
  ]
}